{
 "cells": [
  {
   "cell_type": "code",
   "execution_count": 1,
   "metadata": {},
   "outputs": [],
   "source": [
    "import pandas as pd\n",
    "import numpy as np\n",
    "import jieba\n",
    "from keras.preprocessing.text import Tokenizer\n",
    "from keras.preprocessing.sequence import pad_sequences\n",
    "from keras.layers import Input, Embedding, LSTM, Dense, Bidirectional\n",
    "from keras.models import Model\n",
    "from keras.callbacks import EarlyStopping\n",
    "from sklearn.metrics import accuracy_score, precision_recall_fscore_support"
   ]
  },
  {
   "cell_type": "code",
   "execution_count": 2,
   "metadata": {},
   "outputs": [],
   "source": [
    "# 加载训练集和测试集数据\n",
    "train_data = pd.read_csv('train.csv')\n",
    "test_data = pd.read_csv('test.csv')"
   ]
  },
  {
   "cell_type": "code",
   "execution_count": 3,
   "metadata": {},
   "outputs": [
    {
     "name": "stderr",
     "output_type": "stream",
     "text": [
      "Building prefix dict from the default dictionary ...\n",
      "Loading model from cache C:\\Users\\13414\\AppData\\Local\\Temp\\jieba.cache\n",
      "Loading model cost 0.485 seconds.\n",
      "Prefix dict has been built successfully.\n"
     ]
    }
   ],
   "source": [
    "# 分词处理\n",
    "def tokenize(text):\n",
    "    return ' '.join(jieba.cut(text))\n",
    "\n",
    "train_data['content'] = train_data['content'].apply(tokenize)\n",
    "train_data['title'] = train_data['title'].apply(tokenize)\n",
    "train_data['tag'] = train_data['tag'].apply(tokenize)\n",
    "test_data['content'] = test_data['content'].apply(tokenize)\n",
    "test_data['title'] = test_data['title'].apply(tokenize)\n",
    "test_data['tag'] = test_data['tag'].apply(tokenize)"
   ]
  },
  {
   "cell_type": "code",
   "execution_count": 4,
   "metadata": {},
   "outputs": [],
   "source": [
    "# 创建词汇表\n",
    "tokenizer = Tokenizer(num_words=5000, oov_token='<OOV>')\n",
    "tokenizer.fit_on_texts(train_data['content'].tolist() + train_data['title'].tolist() + train_data['tag'].tolist())"
   ]
  },
  {
   "cell_type": "code",
   "execution_count": 5,
   "metadata": {},
   "outputs": [],
   "source": [
    "# 将文本转化为序列\n",
    "train_content_seq = tokenizer.texts_to_sequences(train_data['content'].tolist())\n",
    "train_title_seq = tokenizer.texts_to_sequences(train_data['title'].tolist())\n",
    "train_tag_seq = tokenizer.texts_to_sequences(train_data['tag'].tolist())\n",
    "test_content_seq = tokenizer.texts_to_sequences(test_data['content'].tolist())\n",
    "test_title_seq = tokenizer.texts_to_sequences(test_data['title'].tolist())\n",
    "test_tag_seq = tokenizer.texts_to_sequences(test_data['tag'].tolist())"
   ]
  },
  {
   "cell_type": "code",
   "execution_count": 6,
   "metadata": {},
   "outputs": [],
   "source": [
    "# 对序列进行填充\n",
    "maxlen = 500\n",
    "train_content_seq = pad_sequences(train_content_seq, padding='post', maxlen=maxlen)\n",
    "train_title_seq = pad_sequences(train_title_seq, padding='post', maxlen=maxlen)\n",
    "train_tag_seq = pad_sequences(train_tag_seq, padding='post', maxlen=maxlen)\n",
    "test_content_seq = pad_sequences(test_content_seq, padding='post', maxlen=maxlen)\n",
    "test_title_seq = pad_sequences(test_title_seq, padding='post', maxlen=maxlen)\n",
    "test_tag_seq = pad_sequences(test_tag_seq, padding='post', maxlen=maxlen)"
   ]
  },
  {
   "cell_type": "code",
   "execution_count": 7,
   "metadata": {},
   "outputs": [],
   "source": [
    "# 构建模型\n",
    "input_content = Input(shape=(maxlen,))\n",
    "input_title = Input(shape=(maxlen,))\n",
    "input_tag = Input(shape=(maxlen,))"
   ]
  },
  {
   "cell_type": "code",
   "execution_count": 8,
   "metadata": {},
   "outputs": [],
   "source": [
    "embedding_dim = 32\n",
    "lstm_units = 64\n",
    "dropout_rate = 0.2\n",
    "\n",
    "embedding_layer = Embedding(input_dim=len(tokenizer.word_index)+1, output_dim=embedding_dim, input_length=maxlen)\n",
    "lstm_layer = LSTM(units=lstm_units, dropout=dropout_rate, recurrent_dropout=dropout_rate, return_sequences=True)\n",
    "\n",
    "content_embedding = embedding_layer(input_content)\n",
    "content_lstm = lstm_layer(content_embedding)\n",
    "\n",
    "title_embedding = embedding_layer(input_title)\n",
    "title_lstm = lstm_layer(title_embedding)\n",
    "\n",
    "tag_embedding = embedding_layer(input_tag)\n",
    "tag_lstm = lstm_layer(tag_embedding)\n",
    "\n",
    "merged = Bidirectional(LSTM(units=lstm_units))(content_lstm)\n",
    "merged = Dense(units=16, activation='relu')(merged)\n",
    "merged = Dense(units=1, activation='sigmoid')(merged)\n",
    "\n",
    "model = Model(inputs=[input_content,input_title,input_tag], outputs=merged)\n",
    "\n",
    "model.compile(loss='binary_crossentropy', optimizer='adam', metrics=['accuracy'])"
   ]
  },
  {
   "cell_type": "code",
   "execution_count": 9,
   "metadata": {},
   "outputs": [
    {
     "name": "stdout",
     "output_type": "stream",
     "text": [
      "Epoch 1/20\n",
      "57/57 [==============================] - 76s 1s/step - loss: 0.6696 - accuracy: 0.5632 - val_loss: 0.5771 - val_accuracy: 0.7175\n",
      "Epoch 2/20\n",
      "57/57 [==============================] - 78s 1s/step - loss: 0.4256 - accuracy: 0.8160 - val_loss: 0.4539 - val_accuracy: 0.7725\n",
      "Epoch 3/20\n",
      "57/57 [==============================] - 81s 1s/step - loss: 0.2482 - accuracy: 0.9019 - val_loss: 0.5216 - val_accuracy: 0.7600\n",
      "Epoch 4/20\n",
      "57/57 [==============================] - 82s 1s/step - loss: 0.1413 - accuracy: 0.9483 - val_loss: 0.6155 - val_accuracy: 0.7775\n",
      "Epoch 5/20\n",
      "57/57 [==============================] - 86s 2s/step - loss: 0.0850 - accuracy: 0.9728 - val_loss: 0.8692 - val_accuracy: 0.7700\n"
     ]
    }
   ],
   "source": [
    "# 训练模型\n",
    "early_stopping = EarlyStopping(monitor='val_loss', patience=3)\n",
    "history = model.fit(x=[train_content_seq, train_title_seq, train_tag_seq], y=train_data['label'].values, batch_size=64,\n",
    "                    epochs=20, validation_split=0.1, callbacks=[early_stopping])"
   ]
  },
  {
   "cell_type": "code",
   "execution_count": 10,
   "metadata": {},
   "outputs": [
    {
     "name": "stdout",
     "output_type": "stream",
     "text": [
      "32/32 [==============================] - 5s 127ms/step\n"
     ]
    }
   ],
   "source": [
    "# 在测试集上进行预测\n",
    "y_pred = model.predict([test_content_seq, test_title_seq, test_tag_seq])\n",
    "y_pred = np.round(y_pred).flatten()"
   ]
  },
  {
   "cell_type": "code",
   "execution_count": 11,
   "metadata": {},
   "outputs": [
    {
     "name": "stdout",
     "output_type": "stream",
     "text": [
      "Accuracy: 0.8038038038038038\n",
      "Precision: [0.81704782 0.79150579]\n",
      "Recall: [0.78443114 0.82329317]\n",
      "F1 score: [0.80040733 0.80708661]\n",
      "Support: [501 498]\n"
     ]
    }
   ],
   "source": [
    "# 输出结果\n",
    "accuracy = accuracy_score(test_data['label'].values, y_pred)\n",
    "precision, recall, f1_score, support = precision_recall_fscore_support(test_data['label'].values, y_pred)\n",
    "\n",
    "print('Accuracy:', accuracy)\n",
    "print('Precision:', precision)\n",
    "print('Recall:', recall)\n",
    "print('F1 score:', f1_score)\n",
    "print('Support:', support)"
   ]
  },
  {
   "cell_type": "code",
   "execution_count": 13,
   "metadata": {},
   "outputs": [],
   "source": [
    "# 将预测结果写入文件\n",
    "test_data['pre_label'] = y_pred\n",
    "test_data.to_csv('LSTMRes.csv', index=False)"
   ]
  },
  {
   "cell_type": "code",
   "execution_count": 14,
   "metadata": {},
   "outputs": [],
   "source": [
    "from sklearn.metrics import confusion_matrix"
   ]
  },
  {
   "cell_type": "code",
   "execution_count": 15,
   "metadata": {},
   "outputs": [],
   "source": [
    "# 计算混淆矩阵\n",
    "conf_mat = confusion_matrix(test_data['label'], y_pred)"
   ]
  },
  {
   "cell_type": "code",
   "execution_count": 16,
   "metadata": {},
   "outputs": [],
   "source": [
    "# 可视化混淆矩阵\n",
    "import seaborn as sns\n",
    "import matplotlib.pyplot as plt"
   ]
  },
  {
   "cell_type": "code",
   "execution_count": 17,
   "metadata": {},
   "outputs": [
    {
     "data": {
      "image/png": "[encoded data removed]",
      "text/plain": [
       "<Figure size 1000x800 with 2 Axes>"
      ]
     },
     "metadata": {},
     "output_type": "display_data"
    }
   ],
   "source": [
    "plt.figure(figsize=(10, 8))\n",
    "sns.heatmap(conf_mat, annot=True, fmt='d', cmap='Blues')\n",
    "plt.xlabel('Predicted labels')\n",
    "plt.ylabel('True labels')\n",
    "plt.show()"
   ]
  }
 ],
 "metadata": {
  "kernelspec": {
   "display_name": "venv",
   "language": "python",
   "name": "python3"
  },
  "language_info": {
   "codemirror_mode": {
    "name": "ipython",
    "version": 3
   },
   "file_extension": ".py",
   "mimetype": "text/x-python",
   "name": "python",
   "nbconvert_exporter": "python",
   "pygments_lexer": "ipython3",
   "version": "3.11.1"
  },
  "orig_nbformat": 4
 },
 "nbformat": 4,
 "nbformat_minor": 2
}
